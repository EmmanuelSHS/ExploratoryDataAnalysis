{
 "cells": [
  {
   "cell_type": "code",
   "execution_count": 1,
   "metadata": {
    "collapsed": false
   },
   "outputs": [],
   "source": [
    "import pandas as pd\n",
    "import nltk\n",
    "from nltk.util import ngrams\n",
    "from nltk import Text"
   ]
  },
  {
   "cell_type": "markdown",
   "metadata": {},
   "source": [
    "## Load data set, get Traning Corpus\n",
    "__Time interval as 1790 - civil war - 1914 great depression - ww ii - end of cold war - now__"
   ]
  },
  {
   "cell_type": "code",
   "execution_count": 2,
   "metadata": {
    "collapsed": false
   },
   "outputs": [],
   "source": [
    "raw = pd.read_table('./clean_speeches.txt', sep='|')\n",
    "presidents = pd.read_csv('./presidents.csv')\n",
    "presidents['year'] = presidents['year'].astype(int)"
   ]
  },
  {
   "cell_type": "code",
   "execution_count": 3,
   "metadata": {
    "collapsed": false
   },
   "outputs": [],
   "source": [
    "# time interval to presidents\n",
    "ti1 = presidents[presidents['year'].isin(range(1789,1861))] # till civil war\n",
    "ti2 = presidents[presidents['year'].isin(range(1861,1866))] # civil war\n",
    "ti3 = presidents[presidents['year'].isin(range(1866,1930))] # till depression\n",
    "ti4 = presidents[presidents['year'].isin(range(1930,1940))] # depression - ww2\n",
    "ti5 = presidents[presidents['year'].isin(range(1940,1946))] # ww2\n",
    "ti6 = presidents[presidents['year'].isin(range(1946,1991))] # cold war\n",
    "ti7 = presidents[presidents['year'].isin(range(1991,2017))] # till now"
   ]
  },
  {
   "cell_type": "code",
   "execution_count": 4,
   "metadata": {
    "collapsed": true
   },
   "outputs": [],
   "source": [
    "# case study, first select ti1, ti3, ti6, ti7\n",
    "addr1 = pd.merge(raw, ti1, left_on='president', right_on='president')\n",
    "addr3 = pd.merge(raw, ti3, left_on='president', right_on='president')\n",
    "addr6 = pd.merge(raw, ti6, left_on='president', right_on='president')\n",
    "addr7 = pd.merge(raw, ti7, left_on='president', right_on='president')"
   ]
  },
  {
   "cell_type": "code",
   "execution_count": 5,
   "metadata": {
    "collapsed": false
   },
   "outputs": [],
   "source": [
    "# separate by party\n",
    "d1 = addr1[addr1['Party']=='Democrat']\n",
    "r1 = addr1[addr1['Party']=='Republican']\n",
    "\n",
    "d3 = addr3[addr3['Party']=='Democrat']\n",
    "r3 = addr3[addr3['Party']=='Republican']\n",
    "\n",
    "d6 = addr6[addr6['Party']=='Democrat']\n",
    "r6 = addr6[addr6['Party']=='Republican']\n",
    "\n",
    "d7 = addr7[addr7['Party']=='Democrat']\n",
    "r7 = addr7[addr7['Party']=='Republican']"
   ]
  },
  {
   "cell_type": "markdown",
   "metadata": {},
   "source": [
    "## Traning on Corpus"
   ]
  },
  {
   "cell_type": "code",
   "execution_count": 16,
   "metadata": {
    "collapsed": false
   },
   "outputs": [],
   "source": [
    "import random\n",
    "\n",
    "class Markov(object):\n",
    "\t\n",
    "\tdef __init__(self, open_file):\n",
    "\t\tself.cache = {}\n",
    "\t\tself.open_file = open_file\n",
    "\t\tself.words = self.file_to_words()\n",
    "\t\tself.word_size = len(self.words)\n",
    "\t\tself.database()\n",
    "\t\t\n",
    "\t\n",
    "\tdef file_to_words(self):\n",
    "\t\tdata = self.open_file\n",
    "\t\twords = data.split()\n",
    "\t\treturn words\n",
    "\t\t\n",
    "\t\n",
    "\tdef triples(self):\n",
    "\t\tif len(self.words) < 3:\n",
    "\t\t\treturn\n",
    "\t\t\n",
    "\t\tfor i in range(len(self.words) - 2):\n",
    "\t\t\tyield (self.words[i], self.words[i+1], self.words[i+2])\n",
    "\t\t\t\n",
    "\tdef database(self):\n",
    "\t\tfor w1, w2, w3 in self.triples():\n",
    "\t\t\tkey = (w1, w2)\n",
    "\t\t\tif key in self.cache:\n",
    "\t\t\t\tself.cache[key].append(w3)\n",
    "\t\t\telse:\n",
    "\t\t\t\tself.cache[key] = [w3]\n",
    "\t\t\t\t\n",
    "\tdef generate_markov_text(self, size=25):\n",
    "\t\tseed = random.randint(0, self.word_size-3)\n",
    "\t\tseed_word, next_word = self.words[seed], self.words[seed+1]\n",
    "\t\tw1, w2 = seed_word, next_word\n",
    "\t\tgen_words = []\n",
    "\t\tfor i in xrange(size):\n",
    "\t\t\tgen_words.append(w1)\n",
    "\t\t\tw1, w2 = w2, random.choice(self.cache[(w1, w2)])\n",
    "\t\tgen_words.append(w2)\n",
    "\t\treturn ' '.join(gen_words)"
   ]
  },
  {
   "cell_type": "code",
   "execution_count": 19,
   "metadata": {
    "collapsed": true
   },
   "outputs": [],
   "source": [
    "md1 = Markov(' '.join(x for x in list(d1['text'])))\n",
    "mr1 = Markov(' '.join(x for x in list(r1['text'])))\n",
    "md3 = Markov(' '.join(x for x in list(d3['text'])))\n",
    "mr3 = Markov(' '.join(x for x in list(r3['text'])))\n",
    "md6 = Markov(' '.join(x for x in list(d6['text'])))\n",
    "mr6 = Markov(' '.join(x for x in list(r6['text'])))\n",
    "md7 = Markov(' '.join(x for x in list(d7['text'])))\n",
    "mr7 = Markov(' '.join(x for x in list(r7['text'])))"
   ]
  },
  {
   "cell_type": "markdown",
   "metadata": {},
   "source": [
    "## Text Generation"
   ]
  },
  {
   "cell_type": "code",
   "execution_count": 41,
   "metadata": {
    "collapsed": false
   },
   "outputs": [
    {
     "data": {
      "text/plain": [
       "'the field making explorations, where previous examinations had not time to reach the country. The remedial policy, the principles and policy of augmenting the military defenses recommended by every branch of the precedent of the President shall exercise his own Government, and that for that mutual good will of those sales during the last session of Congress, the next fiscal year of $404,878.53, or more propriety than the public works, plant schools throughout their Territorial existence, and would foster a system of discriminating and countervailing duties necessarily produces. The selection and of personal communication with California. It appears also that he should deem such a convention. In order to prosecute successfully a just and enlightened policy and to scrutinize our expenditures to that officer,\" and stating that he will presently lay before you by the conqueror during his military possession of the obligation of official duty, and he entertains the confident expectation that the speedy action of Congress. Unlike the great body of the Institution. The organization not having met within the time stipulated. In the recent sad and bloody occurrences at Harpers Ferry, by causing each to respect their religion, their churches, and their property in other quarters of public'"
      ]
     },
     "execution_count": 41,
     "metadata": {},
     "output_type": "execute_result"
    }
   ],
   "source": [
    "md1.generate_markov_text(200)\n"
   ]
  },
  {
   "cell_type": "code",
   "execution_count": 42,
   "metadata": {
    "collapsed": false
   },
   "outputs": [
    {
     "data": {
      "text/plain": [
       "'to the latter. These posts would constitute places of refuge and a reasonable toll to the most imperative sense of their rulers. While dwelling with pleasing satisfaction upon the general impulse required for the want of an act of December last that instructions had been anticipated as Spain must have known that the expedition having been fully accomplished. The basis of action in public offices is established by those who promoted and facilitated by the laws on the 30th of April 29th, 1816, was the destiny of nations. The question, therefore, whether it should be enabled to judge of the other by partial agreement. The purposes of the nation, and maintain it in the dispositions and just arrangements respecting depredations committed by disorderly persons of the act by the distressing malady referred to. To carry these improvements fully into effect, it is incumbent on the subject of a treaty as far as consistent with justice and likewise in agriculture and to convert certain parts of one of the regiments of artillery. But to the continuance of your session or after you shall receive some further views on this continent as well as with the greatest vigilance, can entirely suppress it. the'"
      ]
     },
     "execution_count": 42,
     "metadata": {},
     "output_type": "execute_result"
    }
   ],
   "source": [
    "mr1.generate_markov_text(200)\n"
   ]
  },
  {
   "cell_type": "code",
   "execution_count": 43,
   "metadata": {
    "collapsed": false
   },
   "outputs": [
    {
     "data": {
      "text/plain": [
       "'in releasing Mr. Cutting was released. The incident has, however, disclosed a claim to the uses of days in which the Executive of the last consolidated return of gold and its power brings no sense of responsibility on the 27th of July 29, 1882, has been extended to the public mind concerning the territory as belonging to their owners? Let me say at once receive Congressional action. United States is such that if they show patience and manly virtues, will sooner or later cure itself, by processes which would have been taken over the other, it will be required during the war. But there will be in the islands. With a change in the words of the Navy; the artisan who toils in the efforts to perfect, as far as its convicts were concerned, according to engagement, but that these eleven vessels will be completed before the work of the commissioners in regard to the soul.\" Where in past history does a parallel exist to a provision of the Constitution requires that each State to Federal legislation. While the Executive of that class of voters the name of their ancestors and struggle with persistence against the incoming of free government America;'"
      ]
     },
     "execution_count": 43,
     "metadata": {},
     "output_type": "execute_result"
    }
   ],
   "source": [
    "md3.generate_markov_text(200)\n"
   ]
  },
  {
   "cell_type": "code",
   "execution_count": 44,
   "metadata": {
    "collapsed": false
   },
   "outputs": [
    {
     "data": {
      "text/plain": [
       "\"expression, not only that nation in its present growth. I strongly advocate that instead of the Wabash with those States, the character of the adversary and the Board of three eminent civil engineers, of special requirements, like automobile and admission taxes. Whenever the Commission will be of prime importance, adequate means for the repeal or modification of the contest in Cuba, we must find markets abroad. To secure satisfactory results attained. The suggestions of the Dogger Bank incident, and the legislation enacted in respect of the slightest attention if we substitute for the development of navigation. It does not go far enough. Our Regular Army is fixed by legislation effectually cope with the conviction that they govern themselves so that nobody can fail to stop an enemy's fleet from its passage. Owing to the grade of official and the West Indies. The fifth article of commerce and finance, linked as they often are, to crush out all poaching sealers from the danger in the service. It has always been the slightest degree by agitation and disturbance in the most cordial understanding with the happiest events in recent years and have for the readjustment of the United States as to convey all\""
      ]
     },
     "execution_count": 44,
     "metadata": {},
     "output_type": "execute_result"
    }
   ],
   "source": [
    "mr3.generate_markov_text(200)\n"
   ]
  },
  {
   "cell_type": "code",
   "execution_count": 45,
   "metadata": {
    "collapsed": false
   },
   "outputs": [
    {
     "data": {
      "text/plain": [
       "'but we mean to correct certain abuses and harmful practices which are now at least 90% of children who do not have to fight a limited war in history the legal rights of the President, and then to balance the competing interests that affect us all. Japan, Australia and New Zealand are now in conference between the Treasury cash balance, as compared with selected previous years, is shown in the world. By joining and participating in the inflation rate last year, the war are realized, then our military might, or our establishments abroad. The challenge to the United Nations. The response was immediate and long-term, which they have left behind by our efforts have deprived the Communist powers, all have a profound devotion to those who seek a cost-of-living increase for the world as well as other nations in meeting and mastering the Soviet Union for another year. If we fail to do, with realistic consideration for the task, none can lose if we could, our initial superiority in the marketplace. And I have tried, in part, at the elementary level. I sent to this country has ever been accomplished before. Americans are classified in the middle. To meet this FOREIGN'"
      ]
     },
     "execution_count": 45,
     "metadata": {},
     "output_type": "execute_result"
    }
   ],
   "source": [
    "md6.generate_markov_text(200)\n"
   ]
  },
  {
   "cell_type": "code",
   "execution_count": 46,
   "metadata": {
    "collapsed": false
   },
   "outputs": [
    {
     "data": {
      "text/plain": [
       "\"East, are constantly prepared for a secure world order based upon the consent of the summons to war and the elimination of discrimination and segregation are disappearing from hotels, theaters, restaurants and other difficulties to various localities and industries. These problems are engaging our most basic security interests, jeopardizing earlier hard-won goals. We must be maintained. Economic assistance can be speeded up. Last year we will propose substantial, new Federal Aviation Agency is fostering greater safety in air travel. --The largest public construction program to ensure that the response of government which will enable each Federal dollar to meet the costs of health and for the orderly processes of mediation and conciliation. These processes can successfully pursue these objectives only from a position of strength as the year 1975 opened with rancor and with the free world. From the jungles of Indochina and in doing this, we've deprived government of the traffic in narcotics and, in cooperation with our new policies have contributed to meeting the present 12 Cabinet Departments to eight. I propose tax changes to encourage the teaching profession to all mankind. To accomplish these objectives. As our heart to the government. And what the Soviet Government wants agreement\""
      ]
     },
     "execution_count": 46,
     "metadata": {},
     "output_type": "execute_result"
    }
   ],
   "source": [
    "mr6.generate_markov_text(200)\n"
   ]
  },
  {
   "cell_type": "code",
   "execution_count": 49,
   "metadata": {
    "collapsed": false
   },
   "outputs": [
    {
     "data": {
      "text/plain": [
       "'asked: \"America: What went wrong?\" In the 6 months before I became President, there was just there with him today, and his three children there, one of those preexisting conditions. Tell it to $3,000--and this year, we\\'ve broken through the Senate. I know how to achieve that together. [Applause] We can intensify the fight against this and other incentives to invest more and more affordable rates through voluntary purchasing pools. We ought to be a tough economy. I vetoed that proposal to Congress comprehensive legislation that will cover the uninsured, strengthen Medicare for older Americans. Every plan before the Congress to support what works and greater energy independence. We need to ultimately make clean, renewable energy in history, with the people who are behind to catch criminals and drug abuse and heroin abuse. So, who knows, we might perfect our Union. And despite all our children futures to say to those beyond our shores. Right now it helps about half of all children who lose their health care. Forty million Americans without health insurance industry from exploiting patients. Now, I strongly believe that you can bounce back from China. So let\\'s set our own deadline. Let\\'s work together if we all'"
      ]
     },
     "execution_count": 49,
     "metadata": {},
     "output_type": "execute_result"
    }
   ],
   "source": [
    "md7.generate_markov_text(200)\n"
   ]
  },
  {
   "cell_type": "code",
   "execution_count": 48,
   "metadata": {
    "collapsed": false
   },
   "outputs": [
    {
     "data": {
      "text/plain": [
       "'and equip our heroic police and fire departments; transportation and utility workers well-trained in spotting danger. Our country must also act now because it means the most important institutions -- a symbol of quality and progress, And where every one who has a new century, your century, on dreams we cannot see, on the offensive by encouraging economic growth, and reforms in education and support the training and launch a major al-Qaida leader in Yemen. All told, more than 3,000 suspected terrorists have chosen the weapon of fear. Some speak of an American tradition to show a certain skepticism toward our democratic institutions. I myself have sometimes thought the aging process could be delayed if it includes commitments by every major economy and gives none a free trade agreement and without fingerprints, he could provide one of the Union depends upon being competitive in world markets. We must continue to exist. And today, with Communism crumbling, our aim must be drug-free. Ambitious aims? Of course. Easy to do? Far from it. But the fact the all the gifts they can give, the greatest, the greatest bearing on our ability to monitor terrorist communications. To protect the homeland, and meets important needs,'"
      ]
     },
     "execution_count": 48,
     "metadata": {},
     "output_type": "execute_result"
    }
   ],
   "source": [
    "mr7.generate_markov_text(200)"
   ]
  },
  {
   "cell_type": "code",
   "execution_count": null,
   "metadata": {
    "collapsed": true
   },
   "outputs": [],
   "source": []
  }
 ],
 "metadata": {
  "kernelspec": {
   "display_name": "Python 2",
   "language": "python",
   "name": "python2"
  },
  "language_info": {
   "codemirror_mode": {
    "name": "ipython",
    "version": 2
   },
   "file_extension": ".py",
   "mimetype": "text/x-python",
   "name": "python",
   "nbconvert_exporter": "python",
   "pygments_lexer": "ipython2",
   "version": "2.7.11"
  }
 },
 "nbformat": 4,
 "nbformat_minor": 0
}
