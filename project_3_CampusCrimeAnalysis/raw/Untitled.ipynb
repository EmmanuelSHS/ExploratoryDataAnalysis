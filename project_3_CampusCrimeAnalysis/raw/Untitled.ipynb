{
 "cells": [
  {
   "cell_type": "code",
   "execution_count": 34,
   "metadata": {
    "collapsed": true
   },
   "outputs": [],
   "source": [
    "import pandas as pd"
   ]
  },
  {
   "cell_type": "code",
   "execution_count": 75,
   "metadata": {
    "collapsed": false
   },
   "outputs": [],
   "source": [
    "schools = pd.read_csv(\"./data/postscndryunivsrvy2013dirinfo.csv\")\n",
    "ocCrime = pd.read_excel(\"./data/Crime2013EXCEL/oncampuscrime101112.xls\")"
   ]
  },
  {
   "cell_type": "code",
   "execution_count": 79,
   "metadata": {
    "collapsed": false
   },
   "outputs": [],
   "source": [
    "def join_school(schools, ocCrime):\n",
    "    occClean = ocCrime\n",
    "    occClean['UNITID_P'] = [ str(x)[:-3] for x in list(ocCrime['UNITID_P'])]\n",
    "    occClean = occClean.groupby('UNITID_P').count()\n",
    "    occClean = occClean.reset_index()\n",
    "    print occClean\n",
    "    return pd.merge(schools, occClean, left_on = 'UNITID', right_on = 'UNITID_P')\n"
   ]
  },
  {
   "cell_type": "code",
   "execution_count": 77,
   "metadata": {
    "collapsed": true
   },
   "outputs": [],
   "source": [
    "joined = join_school(schools, ocCrime)"
   ]
  },
  {
   "cell_type": "code",
   "execution_count": 78,
   "metadata": {
    "collapsed": false
   },
   "outputs": [
    {
     "data": {
      "text/html": [
       "<div>\n",
       "<table border=\"1\" class=\"dataframe\">\n",
       "  <thead>\n",
       "    <tr style=\"text-align: right;\">\n",
       "      <th></th>\n",
       "      <th>UNITID</th>\n",
       "      <th>INSTNM_x</th>\n",
       "      <th>ADDR</th>\n",
       "      <th>CITY</th>\n",
       "      <th>STABBR</th>\n",
       "      <th>ZIP_x</th>\n",
       "      <th>FIPS</th>\n",
       "      <th>OBEREG</th>\n",
       "      <th>CHFNM</th>\n",
       "      <th>CHFTITLE</th>\n",
       "      <th>...</th>\n",
       "      <th>FORCIB12</th>\n",
       "      <th>NONFOR12</th>\n",
       "      <th>ROBBE12</th>\n",
       "      <th>AGG_A12</th>\n",
       "      <th>BURGLA12</th>\n",
       "      <th>VEHIC12</th>\n",
       "      <th>ARSON12</th>\n",
       "      <th>FILTER10</th>\n",
       "      <th>FILTER11</th>\n",
       "      <th>FILTER12</th>\n",
       "    </tr>\n",
       "  </thead>\n",
       "  <tbody>\n",
       "  </tbody>\n",
       "</table>\n",
       "<p>0 rows × 108 columns</p>\n",
       "</div>"
      ],
      "text/plain": [
       "Empty DataFrame\n",
       "Columns: [UNITID, INSTNM_x, ADDR, CITY, STABBR, ZIP_x, FIPS, OBEREG, CHFNM, CHFTITLE, GENTELE, FAXTELE, EIN, OPEID, OPEFLAG, WEBADDR, ADMINURL, FAIDURL, APPLURL, NPRICURL, SECTOR, ICLEVEL, CONTROL, HLOFFER, UGOFFER, GROFFER, HDEGOFR1, DEGGRANT, HBCU, HOSPITAL, MEDICAL, TRIBAL, LOCALE, OPENPUBL, ACT, NEWID, DEATHYR, CLOSEDAT, CYACTIVE, POSTSEC, PSEFLAG, PSET4FLG, RPTMTH, IALIAS, INSTCAT, CCBASIC, CCIPUG, CCIPGRAD, CCUGPROF, CCENRPRF, CCSIZSET, CARNEGIE, LANDGRNT, INSTSIZE, CBSA, CBSATYPE, CSA, NECTA, F1SYSTYP, F1SYSNAM, F1SYSCOD, COUNTYCD, COUNTYNM, CNGDSTCD, LONGITUD, LATITUDE, UNITID_P, INSTNM_y, BRANCH, Address, City, State, ZIP_y, sector_cd, Sector_desc, men_total, women_total, Total, MURD10, NEG_M10, FORCIB10, NONFOR10, ROBBE10, AGG_A10, BURGLA10, VEHIC10, ARSON10, MURD11, NEG_M11, FORCIB11, NONFOR11, ROBBE11, AGG_A11, BURGLA11, VEHIC11, ARSON11, MURD12, NEG_M12, FORCIB12, NONFOR12, ...]\n",
       "Index: []\n",
       "\n",
       "[0 rows x 108 columns]"
      ]
     },
     "execution_count": 78,
     "metadata": {},
     "output_type": "execute_result"
    }
   ],
   "source": [
    "joined"
   ]
  }
 ],
 "metadata": {
  "kernelspec": {
   "display_name": "Python 2",
   "language": "python",
   "name": "python2"
  },
  "language_info": {
   "codemirror_mode": {
    "name": "ipython",
    "version": 2
   },
   "file_extension": ".py",
   "mimetype": "text/x-python",
   "name": "python",
   "nbconvert_exporter": "python",
   "pygments_lexer": "ipython2",
   "version": "2.7.10"
  }
 },
 "nbformat": 4,
 "nbformat_minor": 0
}
